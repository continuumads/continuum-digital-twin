{
 "cells": [
  {
   "cell_type": "markdown",
   "metadata": {},
   "source": [
    "# Continuum Digital Twin Demo\n",
    "\n",
    "This notebook demonstrates how to use the Continuum Digital Twin to simulate ad campaigns across Google, Facebook, and LinkedIn platforms."
   ]
  },
  {
   "cell_type": "code",
   "execution_count": null,
   "metadata": {},
   "outputs": [],
   "source": [
    "# Import required modules\n",
    "from ad_simulator import AdSimulator\n",
    "import pandas as pd\n",
    "import matplotlib.pyplot as plt\n",
    "import seaborn as sns\n",
    "\n",
    "# Set up visualization\n",
    "%matplotlib inline\n",
    "sns.set_style(\"whitegrid\")\n",
    "plt.rcParams['figure.figsize'] = [12, 8]"
   ]
  },
  {
   "cell_type": "markdown",
   "metadata": {},
   "source": [
    "## 1. Creating a Simulator Instance\n",
    "\n",
    "First, let's create an instance of the `AdSimulator` class."
   ]
  },
  {
   "cell_type": "code",
   "execution_count": null,
   "metadata": {},
   "outputs": [],
   "source": [
    "# Create a simulator instance\n",
    "simulator = AdSimulator()\n",
    "\n",
    "print(\"Simulator created successfully!\")"
   ]
  },
  {
   "cell_type": "markdown",
   "metadata": {},
   "source": [
    "## 2. Defining Audiences\n",
    "\n",
    "Let's define some audiences for our simulations."
   ]
  },
  {
   "cell_type": "code",
   "execution_count": null,
   "metadata": {},
   "outputs": [],
   "source": [
    "# Define audience for different segments\n",
    "tech_audience = {\n",
    "    \"size\": 800000,\n",
    "    \"ctr_base\": 0.03,\n",
    "    \"conversion_rate\": 0.02,\n",
    "    \"demographics_match\": 0.8,\n",
    "    \"interests_match\": 0.7,\n",
    "    \"behaviors_match\": 0.6\n",
    "}\n",
    "\n",
    "business_audience = {\n",
    "    \"size\": 600000,\n",
    "    \"ctr_base\": 0.025,\n",
    "    \"conversion_rate\": 0.015,\n",
    "    \"demographics_match\": 0.75,\n",
    "    \"interests_match\": 0.65,\n",
    "    \"behaviors_match\": 0.5\n",
    "}\n",
    "\n",
    "# Define audiences for each platform\n",
    "for audience_name, audience_data in {\n",
    "    \"tech_professionals\": tech_audience,\n",
    "    \"business_professionals\": business_audience\n",
    "}.items():\n",
    "    simulator.google_simulator.define_audience(audience_name, audience_data)\n",
    "    simulator.facebook_simulator.define_audience(audience_name, audience_data)\n",
    "    simulator.linkedin_simulator.define_audience(audience_name, audience_data)\n",
    "    \n",
    "print(\"Audiences defined successfully!\")"
   ]
  },
  {
   "cell_type": "markdown",
   "metadata": {},
   "source": [
    "## 3. Creating Campaigns\n",
    "\n",
    "Now, let's create campaigns on each platform."
   ]
  },
  {
   "cell_type": "code",
   "execution_count": null,
   "metadata": {},
   "outputs": [],
   "source": [
    "# Create campaigns across platforms\n",
    "campaign_data = {\n",
    "    \"name\": \"Cross-Platform Product Launch\",\n",
    "    \"objective\": \"conversions\",\n",
    "    \"daily_budget\": 150.0,\n",
    "    \"total_budget\": 4500.0,\n",
    "    \"targeting\": {\n",
    "        \"audience\": \"tech_professionals\"\n",
    "    }\n",
    "}\n",
    "\n",
    "campaign_ids = simulator.create_cross_platform_campaign(campaign_data)\n",
    "print(\"Created campaigns with IDs:\")\n",
    "for platform, campaign_id in campaign_ids.items():\n",
    "    print(f\"  {platform}: {campaign_id}\")"
   ]
  },
  {
   "cell_type": "markdown",
   "metadata": {},
   "source": [
    "## 4. Setting Up Google Campaign Details"
   ]
  },
  {
   "cell_type": "code",
   "execution_count": null,
   "metadata": {},
   "outputs": [],
   "source": [
    "# Set up Google campaign details\n",
    "google_id = campaign_ids['google']\n",
    "\n",
    "# Create ad groups\n",
    "search_ad_group = simulator.google_simulator.create_ad_group(google_id, {\n",
    "    \"name\": \"Search - Product Features\",\n",
    "    \"ad_format\": \"search\"\n",
    "})\n",
    "\n",
    "display_ad_group = simulator.google_simulator.create_ad_group(google_id, {\n",
    "    \"name\": \"Display - Brand Awareness\",\n",
    "    \"ad_format\": \"display\"\n",
    "})\n",
    "\n",
    "# Add keywords to search ad group\n",
    "keywords = [\n",
    "    (\"product features\", \"exact\", 2.0),\n",
    "    (\"best productivity tools\", \"phrase\", 1.8),\n",
    "    (\"software for developers\", \"broad\", 1.5),\n",
    "    (\"coding productivity\", \"exact\", 2.2),\n",
    "    (\"developer workflow tools\", \"phrase\", 1.7)\n",
    "]\n",
    "\n",
    "for keyword, match_type, bid in keywords:\n",
    "    simulator.google_simulator.add_keyword(search_ad_group, keyword, match_type, bid)\n",
    "\n",
    "# Create ads\n",
    "simulator.google_simulator.create_ad(search_ad_group, {\n",
    "    \"headline1\": \"Powerful Dev Tools\",\n",
    "    \"headline2\": \"Boost Your Productivity\",\n",
    "    \"description\": \"Industry-leading tools for professional developers. Try it today!\"\n",
    "})\n",
    "\n",
    "simulator.google_simulator.create_ad(search_ad_group, {\n",
    "    \"headline1\": \"Developer Workflow Suite\",\n",
    "    \"headline2\": \"Code Faster, Build Better\",\n",
    "    \"description\": \"Complete toolkit for modern development teams. Start your free trial!\"\n",
    "})\n",
    "\n",
    "simulator.google_simulator.create_ad(display_ad_group, {\n",
    "    \"headline1\": \"Transform Your Workflow\",\n",
    "    \"headline2\": \"Tools for Modern Developers\",\n",
    "    \"description\": \"See how our platform can revolutionize your development process.\"\n",
    "})\n",
    "\n",
    "print(\"Google campaign details added successfully!\")"
   ]
  },
  {
   "cell_type": "markdown",
   "metadata": {},
   "source": [
    "## 5. Setting Up Facebook Campaign Details"
   ]
  },
  {
   "cell_type": "code",
   "execution_count": null,
   "metadata": {},
   "outputs": [],
   "source": [
    "# Set up Facebook campaign details\n",
    "facebook_id = campaign_ids['facebook']\n",
    "\n",
    "# Create ad sets\n",
    "feed_ad_set = simulator.facebook_simulator.create_ad_set(facebook_id, {\n",
    "    \"name\": \"Feed Placements\",\n",
    "    \"budget\": 2000.0,\n",
    "    \"placements\": [\"feed\", \"instagram\"],\n",
    "    \"targeting\": {\n",
    "        \"age_range\": {\"min\": 25, \"max\": 45},\n",
    "        \"gender\": \"all\",\n",
    "        \"interests\": [\"programming\", \"software development\", \"coding\", \"technology\"]\n",
    "    }\n",
    "})\n",
    "\n",
    "stories_ad_set = simulator.facebook_simulator.create_ad_set(facebook_id, {\n",
    "    \"name\": \"Stories Placements\",\n",
    "    \"budget\": 1500.0,\n",
    "    \"placements\": [\"stories\"],\n",
    "    \"targeting\": {\n",
    "        \"age_range\": {\"min\": 20, \"max\": 35},\n",
    "        \"gender\": \"all\",\n",
    "        \"interests\": [\"mobile development\", \"app development\", \"startup\"]\n",
    "    }\n",
    "})\n",
    "\n",
    "# Create ads\n",
    "simulator.facebook_simulator.create_ad(feed_ad_set, {\n",
    "    \"title\": \"Supercharge Your Development\",\n",
    "    \"body\": \"Our tools help developers build better products faster. Join thousands of satisfied teams.\",\n",
    "    \"image_url\": \"https://example.com/dev_productivity.jpg\",\n",
    "    \"call_to_action\": \"SIGN_UP\"\n",
    "})\n",
    "\n",
    "simulator.facebook_simulator.create_ad(feed_ad_set, {\n",
    "    \"title\": \"Built for Modern Dev Teams\",\n",
    "    \"body\": \"Streamline collaboration, improve code quality, and ship faster with our integrated platform.\",\n",
    "    \"image_url\": \"https://example.com/team_collaboration.jpg\",\n",
    "    \"call_to_action\": \"LEARN_MORE\"\n",
    "})\n",
    "\n",
    "simulator.facebook_simulator.create_ad(stories_ad_set, {\n",
    "    \"title\": \"Swipe Up to Transform Your Workflow\",\n",
    "    \"body\": \"See how our tools can revolutionize your development process.\",\n",
    "    \"image_url\": \"https://example.com/workflow_story.jpg\",\n",
    "    \"call_to_action\": \"LEARN_MORE\"\n",
    "})\n",
    "\n",
    "print(\"Facebook campaign details added successfully!\")"
   ]
  },
  {
   "cell_type": "markdown",
   "metadata": {},
   "source": [
    "## 6. Setting Up LinkedIn Campaign Details"
   ]
  },
  {
   "cell_type": "code",
   "execution_count": null,
   "metadata": {},
   "outputs": [],
   "source": [
    "# Set up LinkedIn campaign details\n",
    "linkedin_id = campaign_ids['linkedin']\n",
    "\n",
    "# Create creatives\n",
    "simulator.linkedin_simulator.create_creative(linkedin_id, {\n",
    "    \"title\": \"Enterprise-Grade Development Tools\",\n",
    "    \"body\": \"Boost your team's productivity with our professional development suite. Used by Fortune 500 companies.\",\n",
    "    \"destination_url\": \"https://example.com/enterprise\",\n",
    "    \"call_to_action\": \"LEARN_MORE\"\n",
    "})\n",
    "\n",
    "simulator.linkedin_simulator.create_creative(linkedin_id, {\n",
    "    \"title\": \"Scale Your Development Process\",\n",
    "    \"body\": \"Our platform grows with your team, providing the tools and insights needed for large-scale projects.\",\n",
    "    \"destination_url\": \"https://example.com/scale\",\n",
    "    \"call_to_action\": \"REQUEST_DEMO\"\n",
    "})\n",
    "\n",
    "simulator.linkedin_simulator.create_creative(linkedin_id, {\n",
    "    \"title\": \"Trusted by Leading Tech Teams\",\n",
    "    \"body\": \"Join thousands of engineering teams who've transformed their workflow with our platform.\",\n",
    "    \"destination_url\": \"https://example.com/testimonials\",\n",
    "    \"call_to_action\": \"SIGN_UP\"\n",
    "})\n",
    "\n",
    "print(\"LinkedIn campaign details added successfully!\")"
   ]
  },
  {
   "cell_type": "markdown",
   "metadata": {},
   "source": [
    "## 7. Running the Simulation\n",
    "\n",
    "Now let's run our simulation across all platforms."
   ]
  },
  {
   "cell_type": "code",
   "execution_count": null,
   "metadata": {},
   "outputs": [],
   "source": [
    "# Run the simulation for 30 days\n",
    "print(\"Running simulation...\")\n",
    "results = simulator.run_campaigns(days=30)\n",
    "print(\"Simulation completed!\")"
   ]
  },
  {
   "cell_type": "markdown",
   "metadata": {},
   "source": [
    "## 8. Analyzing the Results\n",
    "\n",
    "Let's convert the results to pandas DataFrames for easier analysis."
   ]
  },
  {
   "cell_type": "code",
   "execution_count": null,
   "metadata": {},
   "outputs": [],
   "source": [
    "# Create DataFrame of platform metrics\n",
    "platform_data = []\n",
    "for platform, platform_results in results.items():\n",
    "    if platform == 'combined':\n",
    "        continue\n",
    "    \n",
    "    if 'total_metrics' in platform_results:\n",
    "        metrics = platform_results['total_metrics']\n",
    "        platform_data.append({\n",
    "            'platform': platform,\n",
    "            'impressions': metrics.get('impressions', 0),\n",
    "            'clicks': metrics.get('clicks', 0),\n",
    "            'conversions': metrics.get('conversions', 0),\n",
    "            'spend': metrics.get('spend', 0),\n",
    "            'ctr': metrics.get('ctr', 0) * 100,  # Convert to percentage\n",
    "            'cpa': metrics.get('cpa', 0)\n",
    "        })\n",
    "\n",
    "platform_df = pd.DataFrame(platform_data)\n",
    "platform_df"
   ]
  },
  {
   "cell_type": "markdown",
   "metadata": {},
   "source": [
    "## 9. Visualizing the Results"
   ]
  },
  {
   "cell_type": "code",
   "execution_count": null,
   "metadata": {},
   "outputs": [],
   "source": [
    "# Plotting impressions and clicks by platform\n",
    "fig, (ax1, ax2) = plt.subplots(1, 2, figsize=(16, 6))\n",
    "\n",
    "# Impressions plot\n",
    "sns.barplot(x='platform', y='impressions', data=platform_df, ax=ax1)\n",
    "ax1.set_title('Impressions by Platform')\n",
    "ax1.set_ylabel('Impressions')\n",
    "ax1.set_xlabel('')\n",
    "\n",
    "# Clicks plot\n",
    "sns.barplot(x='platform', y='clicks', data=platform_df, ax=ax2)\n",
    "ax2.set_title('Clicks by Platform')\n",
    "ax2.set_ylabel('Clicks')\n",
    "ax2.set_xlabel('')\n",
    "\n",
    "plt.tight_layout()\n",
    "plt.show()"
   ]
  },
  {
   "cell_type": "code",
   "execution_count": null,
   "metadata": {},
   "outputs": [],
   "source": [
    "# Plotting CTR and CPA by platform\n",
    "fig, (ax1, ax2) = plt.subplots(1, 2, figsize=(16, 6))\n",
    "\n",
    "# CTR plot\n",
    "sns.barplot(x='platform', y='ctr', data=platform_df, ax=ax1)\n",
    "ax1.set_title('CTR by Platform (%)')\n",
    "ax1.set_ylabel('CTR (%)')\n",
    "ax1.set_xlabel('')\n",
    "\n",
    "# CPA plot\n",
    "sns.barplot(x='platform', y='cpa', data=platform_df, ax=ax2)\n",
    "ax2.set_title('CPA by Platform ($)')\n",
    "ax2.set_ylabel('CPA ($)')\n",
    "ax2.set_xlabel('')\n",
    "\n",
    "plt.tight_layout()\n",
    "plt.show()"
   ]
  },
  {
   "cell_type": "code",
   "execution_count": null,
   "metadata": {},
   "outputs": [],
   "source": [
    "# Efficiency plot (conversions per $1000 spent)\n",
    "platform_df['efficiency'] = platform_df['conversions'] / (platform_df['spend'] / 1000)\n",
    "\n",
    "plt.figure(figsize=(10, 6))\n",
    "sns.barplot(x='platform', y='efficiency', data=platform_df)\n",
    "plt.title('Platform Efficiency (Conversions per $1000 Spent)')\n",
    "plt.ylabel('Conversions per $1000')\n",
    "plt.xlabel('')\n",
    "plt.tight_layout()\n",
    "plt.show()"
   ]
  },
  {
   "cell_type": "markdown",
   "metadata": {},
   "source": [
    "## 10. Exporting Results"
   ]
  },
  {
   "cell_type": "code",
   "execution_count": null,
   "metadata": {},
   "outputs": [],
   "source": [
    "# Export results to JSON files\n",
    "simulator.export_results(output_dir='notebook_results')\n",
    "print(\"Results exported to the 'notebook_results' directory.\")"
   ]
  },
  {
   "cell_type": "markdown",
   "metadata": {},
   "source": [
    "## 11. Conclusion\n",
    "\n",
    "In this notebook, we've demonstrated how to use the Continuum Digital Twin to:\n",
    "\n",
    "1. Define audiences across platforms\n",
    "2. Create campaigns with platform-specific configurations\n",
    "3. Run simulations to predict campaign performance\n",
    "4. Analyze and visualize the results\n",
    "\n",
    "This digital twin enables rapid testing and iteration of ad strategies without deploying actual campaigns, saving time and budget while optimizing performance."
   ]
  }
 ],
 "metadata": {
  "language_info": {
   "name": "python"
  }
 },
 "nbformat": 4,
 "nbformat_minor": 2
}
